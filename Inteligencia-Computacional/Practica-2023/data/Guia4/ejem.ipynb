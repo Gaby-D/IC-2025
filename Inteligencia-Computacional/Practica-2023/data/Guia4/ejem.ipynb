{
 "cells": [
  {
   "cell_type": "code",
   "execution_count": 12,
   "metadata": {},
   "outputs": [],
   "source": [
    "import numpy as np\n",
    "import matplotlib.pyplot as plt\n",
    "from functools import reduce"
   ]
  },
  {
   "cell_type": "code",
   "execution_count": 56,
   "metadata": {},
   "outputs": [
    {
     "name": "stdout",
     "output_type": "stream",
     "text": [
      "[False False  True  True  True]\n",
      "[0.         0.         0.33333333 0.33333333 0.33333333]\n",
      "[False False  True  True  True]\n",
      "1.0\n"
     ]
    }
   ],
   "source": [
    "alpha = 1.0  # Parámetro alpha para la probabilidad\n",
    "beta = 2.0  # Parámetro beta para la probabilidad\n",
    "\n",
    "\n",
    "def calcular_probabilidades(sigma, eta, caminos):\n",
    "    # creamos mascara\n",
    "    u = np.ones(len(sigma), dtype=bool)\n",
    "    u[caminos] = False\n",
    "    print(u)\n",
    "    # calculamos la prob\n",
    "    sigma_iu = sigma[u]\n",
    "    prob = np.zeros(len(sigma))\n",
    "    for j in range(len(sigma)):\n",
    "        if j in caminos: continue\n",
    "        prob[j] = (sigma[j]**alpha * eta[j]**beta)/sum(sigma_iu**alpha * eta[j]**beta)\n",
    "\n",
    "    return prob\n"
   ]
  },
  {
   "cell_type": "code",
   "execution_count": 46,
   "metadata": {},
   "outputs": [
    {
     "data": {
      "text/plain": [
       "array([[ 1, 11,  3, 22,  5],\n",
       "       [ 1, 11,  3, 22,  5],\n",
       "       [ 1, 11,  3, 22,  5]])"
      ]
     },
     "execution_count": 46,
     "metadata": {},
     "output_type": "execute_result"
    }
   ],
   "source": [
    "a = np.array([\n",
    "    [1,2,3,4,5],\n",
    "    [1,2,3,4,5],\n",
    "    [1,2,3,4,5],\n",
    "])\n",
    "\n",
    "a[:,np.array([1,3])] = [11,22]\n",
    "a"
   ]
  }
 ],
 "metadata": {
  "kernelspec": {
   "display_name": "Python 3",
   "language": "python",
   "name": "python3"
  },
  "language_info": {
   "codemirror_mode": {
    "name": "ipython",
    "version": 3
   },
   "file_extension": ".py",
   "mimetype": "text/x-python",
   "name": "python",
   "nbconvert_exporter": "python",
   "pygments_lexer": "ipython3",
   "version": "3.11.5"
  },
  "orig_nbformat": 4
 },
 "nbformat": 4,
 "nbformat_minor": 2
}
